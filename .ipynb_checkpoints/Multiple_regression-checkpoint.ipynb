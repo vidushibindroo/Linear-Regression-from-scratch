{
 "cells": [
  {
   "cell_type": "code",
   "execution_count": 31,
   "metadata": {},
   "outputs": [],
   "source": [
    "%matplotlib inline\n",
    "import numpy as np\n",
    "import pandas as pd\n",
    "import matplotlib.pyplot as plt"
   ]
  },
  {
   "cell_type": "code",
   "execution_count": 32,
   "metadata": {},
   "outputs": [],
   "source": [
    "def initialize_parameters(lenw):\n",
    "    w=np.random.randn(1,lenw)\n",
    "    b=0\n",
    "    return w,b\n"
   ]
  },
  {
   "cell_type": "code",
   "execution_count": 33,
   "metadata": {},
   "outputs": [],
   "source": [
    "def forward_prop(X,w,b):\n",
    "    z=np.dot(w,X)+b\n",
    "    return z"
   ]
  },
  {
   "cell_type": "code",
   "execution_count": 34,
   "metadata": {},
   "outputs": [],
   "source": [
    "def cost_function(z,y):\n",
    "    m=y.shape[1]\n",
    "    J=(1/(2*m))*np.sum(np.square(z-y))\n",
    "    return J"
   ]
  },
  {
   "cell_type": "code",
   "execution_count": 35,
   "metadata": {},
   "outputs": [],
   "source": [
    "def back_prop(X,y,z):\n",
    "    m=y.shape[1]\n",
    "    dz=(1/m)*(z-y)\n",
    "    dw=np.dot(dz,X.T)\n",
    "    db=np.sum(dz)\n",
    "    return dw,db"
   ]
  },
  {
   "cell_type": "code",
   "execution_count": 36,
   "metadata": {},
   "outputs": [],
   "source": [
    "def grad_decent(w,b,dw,db,learning_rate):\n",
    "    w= w- learning_rate*dw\n",
    "    b= b- learning_rate*db\n",
    "    return w,b\n",
    "    "
   ]
  },
  {
   "cell_type": "code",
   "execution_count": 37,
   "metadata": {},
   "outputs": [],
   "source": [
    "def linear_regression_model(X_train,y_train,X_val,y_val,learning_rate,epochs):\n",
    "    lenw=X_train.shape[0]\n",
    "    w,b=initialize_parameters(lenw)\n",
    "    \n",
    "    costs_train=[]\n",
    "    m_train= y_train.shape[1]\n",
    "    m_val= y_val.shape[1]\n",
    "    \n",
    "    for i in range(1,epochs+1):\n",
    "        z_train= forward_prop(X_train,w,b)\n",
    "        cost_train= cost_function(z_train,y_train)\n",
    "        dw,db=back_prop(X_train,y_train,z_train)\n",
    "        w,b =grad_decent(w,b,dw,db,learning_rate)\n",
    "        \n",
    "        if i%10==0:\n",
    "            costs_train.append(cost_train)\n",
    "        \n",
    "        MAE_train=(1/m_train)*np.sum(np.abs(z_train,y_train))\n",
    "        \n",
    "        z_val=forward_prop(X_val,w,b)\n",
    "        cost_val=cost_function(z_val,y_val)\n",
    "        MAE_val=(1/m_val)*np.sum(np.abs(z_val-y_val))\n",
    "        \n",
    "        print('epochs'+str(i)+'/'+str(epochs)+':')\n",
    "        print('training cost'+ str(cost_train)+'validation cost'+str(cost_val))\n",
    "        print('MAE cost'+str(MAE_train)+'validation cost'+str(MAE_val)) \n",
    "    \n",
    "        \n",
    "        "
   ]
  },
  {
   "cell_type": "code",
   "execution_count": null,
   "metadata": {},
   "outputs": [],
   "source": []
  },
  {
   "cell_type": "code",
   "execution_count": null,
   "metadata": {},
   "outputs": [],
   "source": []
  }
 ],
 "metadata": {
  "kernelspec": {
   "display_name": "Python 3",
   "language": "python",
   "name": "python3"
  },
  "language_info": {
   "codemirror_mode": {
    "name": "ipython",
    "version": 3
   },
   "file_extension": ".py",
   "mimetype": "text/x-python",
   "name": "python",
   "nbconvert_exporter": "python",
   "pygments_lexer": "ipython3",
   "version": "3.7.1"
  }
 },
 "nbformat": 4,
 "nbformat_minor": 2
}
